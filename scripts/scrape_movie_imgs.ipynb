{
 "cells": [
  {
   "cell_type": "code",
   "execution_count": 84,
   "metadata": {},
   "outputs": [],
   "source": [
    "import pandas as pd\n",
    "from bs4 import BeautifulSoup\n",
    "import requests\n",
    "import re"
   ]
  },
  {
   "cell_type": "code",
   "execution_count": 92,
   "metadata": {},
   "outputs": [],
   "source": [
    "def get_movie_image_url(tmdb_ids: list):\n",
    "    movie_urls = []\n",
    "    for id in tmdb_ids:\n",
    "        try:\n",
    "            url = f\"https://www.themoviedb.org/movie/{id}\"\n",
    "            headers = {'User-Agent': 'Mozilla/5.0 (Macintosh; Intel Mac OS X 10_11_5) AppleWebKit/537.36 (KHTML, like Gecko) Chrome/50.0.2661.102 Safari/537.36'}\n",
    "            page = requests.get(url, headers=headers)\n",
    "            soup = BeautifulSoup(page.text, \"html.parser\")\n",
    "            url = soup.select(\"img.poster\")[0][\"src\"]\n",
    "            short_url = re.sub(r\"(\\/)(.*)(\\/)\", \"\", url)\n",
    "            movie_urls.append(short_url)\n",
    "        except:\n",
    "            movie_urls.append(\"empty\")\n",
    "\n",
    "    return movie_urls\n"
   ]
  },
  {
   "cell_type": "code",
   "execution_count": 87,
   "metadata": {},
   "outputs": [
    {
     "name": "stdout",
     "output_type": "stream",
     "text": [
      "<class 'pandas.core.frame.DataFrame'>\n",
      "RangeIndex: 9734 entries, 0 to 9733\n",
      "Data columns (total 2 columns):\n",
      " #   Column   Non-Null Count  Dtype\n",
      "---  ------   --------------  -----\n",
      " 0   movieId  9734 non-null   int64\n",
      " 1   tmdbId   9734 non-null   int64\n",
      "dtypes: int64(2)\n",
      "memory usage: 152.2 KB\n"
     ]
    }
   ],
   "source": [
    "path = \"../cleaned_data/\"\n",
    "links = pd.read_csv(f\"{path}cl_links.csv\")\n",
    "movies = pd.read_csv(f\"{path}cl_movies.csv\")\n",
    "links = links.fillna(0)\n",
    "links.info()"
   ]
  },
  {
   "cell_type": "code",
   "execution_count": 90,
   "metadata": {},
   "outputs": [],
   "source": [
    "movie_ids = links[\"tmdbId\"].to_list()"
   ]
  },
  {
   "cell_type": "code",
   "execution_count": 99,
   "metadata": {},
   "outputs": [],
   "source": [
    "# LASTS approx. 80 mins to run\n",
    "# movie_image_urls = get_movie_image_url(movie_ids)\n"
   ]
  },
  {
   "cell_type": "code",
   "execution_count": 98,
   "metadata": {},
   "outputs": [],
   "source": [
    "links[\"image_url\"] = movie_image_urls\n",
    "links.to_csv(\"../cleaned_data/cl_links_urls.csv\",index=False)"
   ]
  },
  {
   "cell_type": "code",
   "execution_count": 54,
   "metadata": {},
   "outputs": [
    {
     "data": {
      "text/markdown": [
       "![Sdadsfadsfsd](https://www.themoviedb.org/t/p/w1280/uXDfjJbdP4ijW5hWSBrPrlKpxab.jpg)"
      ],
      "text/plain": [
       "<IPython.core.display.Markdown object>"
      ]
     },
     "execution_count": 54,
     "metadata": {},
     "output_type": "execute_result"
    }
   ],
   "source": []
  },
  {
   "cell_type": "markdown",
   "metadata": {},
   "source": []
  }
 ],
 "metadata": {
  "interpreter": {
   "hash": "40d3a090f54c6569ab1632332b64b2c03c39dcf918b08424e98f38b5ae0af88f"
  },
  "kernelspec": {
   "display_name": "Python 3.9.7 ('base')",
   "language": "python",
   "name": "python3"
  },
  "language_info": {
   "codemirror_mode": {
    "name": "ipython",
    "version": 3
   },
   "file_extension": ".py",
   "mimetype": "text/x-python",
   "name": "python",
   "nbconvert_exporter": "python",
   "pygments_lexer": "ipython3",
   "version": "3.9.12"
  },
  "orig_nbformat": 4
 },
 "nbformat": 4,
 "nbformat_minor": 2
}
