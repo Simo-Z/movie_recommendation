{
 "cells": [
  {
   "cell_type": "code",
   "execution_count": 106,
   "metadata": {},
   "outputs": [],
   "source": [
    "import pandas as pd\n",
    "from bs4 import BeautifulSoup\n",
    "import requests\n",
    "import re"
   ]
  },
  {
   "cell_type": "code",
   "execution_count": 101,
   "metadata": {},
   "outputs": [],
   "source": [
    "def get_movie_image_url(tmdb_ids: list):\n",
    "    movie_urls = []\n",
    "    for id in tmdb_ids:\n",
    "        try:\n",
    "            url = f\"https://www.themoviedb.org/movie/{id}\"\n",
    "            headers = {'User-Agent': 'Mozilla/5.0 (Macintosh; Intel Mac OS X 10_11_5) AppleWebKit/537.36 (KHTML, like Gecko) Chrome/50.0.2661.102 Safari/537.36'}\n",
    "            page = requests.get(url, headers=headers)\n",
    "            soup = BeautifulSoup(page.text, \"html.parser\")\n",
    "            url = soup.select(\"img.poster\")[0][\"src\"]\n",
    "            short_url = re.sub(r\"(\\/)(.*)(\\/)\", \"\", url)\n",
    "            movie_urls.append(short_url)\n",
    "        except:\n",
    "            movie_urls.append(\"empty\")\n",
    "\n",
    "    return movie_urls"
   ]
  },
  {
   "cell_type": "code",
   "execution_count": 102,
   "metadata": {},
   "outputs": [
    {
     "name": "stdout",
     "output_type": "stream",
     "text": [
      "<class 'pandas.core.frame.DataFrame'>\n",
      "RangeIndex: 9734 entries, 0 to 9733\n",
      "Data columns (total 2 columns):\n",
      " #   Column   Non-Null Count  Dtype\n",
      "---  ------   --------------  -----\n",
      " 0   movieId  9734 non-null   int64\n",
      " 1   tmdbId   9734 non-null   int64\n",
      "dtypes: int64(2)\n",
      "memory usage: 152.2 KB\n"
     ]
    }
   ],
   "source": [
    "path = \"../cleaned_data/\"\n",
    "links = pd.read_csv(f\"{path}cl_links.csv\")\n",
    "movies = pd.read_csv(f\"{path}cl_movies.csv\")\n",
    "links = links.fillna(0)\n",
    "links.info()"
   ]
  },
  {
   "cell_type": "code",
   "execution_count": 103,
   "metadata": {},
   "outputs": [],
   "source": [
    "movie_ids = links[\"tmdbId\"].to_list()"
   ]
  },
  {
   "cell_type": "code",
   "execution_count": 104,
   "metadata": {},
   "outputs": [],
   "source": [
    "# LASTS approx. 80 mins to run\n",
    "# movie_image_urls = get_movie_image_url(movie_ids)\n"
   ]
  },
  {
   "cell_type": "code",
   "execution_count": 105,
   "metadata": {},
   "outputs": [],
   "source": [
    "# links[\"image_url\"] = movie_image_urls\n",
    "# links.to_csv(\"../cleaned_data/cl_links_urls.csv\",index=False)\n",
    "\n"
   ]
  },
  {
   "cell_type": "code",
   "execution_count": 107,
   "metadata": {},
   "outputs": [
    {
     "data": {
      "text/html": [
       "<div>\n",
       "<style scoped>\n",
       "    .dataframe tbody tr th:only-of-type {\n",
       "        vertical-align: middle;\n",
       "    }\n",
       "\n",
       "    .dataframe tbody tr th {\n",
       "        vertical-align: top;\n",
       "    }\n",
       "\n",
       "    .dataframe thead th {\n",
       "        text-align: right;\n",
       "    }\n",
       "</style>\n",
       "<table border=\"1\" class=\"dataframe\">\n",
       "  <thead>\n",
       "    <tr style=\"text-align: right;\">\n",
       "      <th></th>\n",
       "      <th>movieId</th>\n",
       "      <th>tmdbId</th>\n",
       "      <th>image_url</th>\n",
       "    </tr>\n",
       "  </thead>\n",
       "  <tbody>\n",
       "    <tr>\n",
       "      <th>0</th>\n",
       "      <td>1</td>\n",
       "      <td>862</td>\n",
       "      <td>https://www.themoviedb.org/t/p/w300_and_h450_b...</td>\n",
       "    </tr>\n",
       "    <tr>\n",
       "      <th>1</th>\n",
       "      <td>2</td>\n",
       "      <td>8844</td>\n",
       "      <td>https://www.themoviedb.org/t/p/w300_and_h450_b...</td>\n",
       "    </tr>\n",
       "    <tr>\n",
       "      <th>2</th>\n",
       "      <td>3</td>\n",
       "      <td>15602</td>\n",
       "      <td>https://www.themoviedb.org/t/p/w300_and_h450_b...</td>\n",
       "    </tr>\n",
       "    <tr>\n",
       "      <th>3</th>\n",
       "      <td>4</td>\n",
       "      <td>31357</td>\n",
       "      <td>https://www.themoviedb.org/t/p/w300_and_h450_b...</td>\n",
       "    </tr>\n",
       "    <tr>\n",
       "      <th>4</th>\n",
       "      <td>5</td>\n",
       "      <td>11862</td>\n",
       "      <td>https://www.themoviedb.org/t/p/w300_and_h450_b...</td>\n",
       "    </tr>\n",
       "    <tr>\n",
       "      <th>...</th>\n",
       "      <td>...</td>\n",
       "      <td>...</td>\n",
       "      <td>...</td>\n",
       "    </tr>\n",
       "    <tr>\n",
       "      <th>9729</th>\n",
       "      <td>193581</td>\n",
       "      <td>432131</td>\n",
       "      <td>https://www.themoviedb.org/t/p/w300_and_h450_b...</td>\n",
       "    </tr>\n",
       "    <tr>\n",
       "      <th>9730</th>\n",
       "      <td>193583</td>\n",
       "      <td>445030</td>\n",
       "      <td>https://www.themoviedb.org/t/p/w300_and_h450_b...</td>\n",
       "    </tr>\n",
       "    <tr>\n",
       "      <th>9731</th>\n",
       "      <td>193585</td>\n",
       "      <td>479308</td>\n",
       "      <td>https://www.themoviedb.org/t/p/w300_and_h450_b...</td>\n",
       "    </tr>\n",
       "    <tr>\n",
       "      <th>9732</th>\n",
       "      <td>193587</td>\n",
       "      <td>483455</td>\n",
       "      <td>https://www.themoviedb.org/t/p/w300_and_h450_b...</td>\n",
       "    </tr>\n",
       "    <tr>\n",
       "      <th>9733</th>\n",
       "      <td>193609</td>\n",
       "      <td>37891</td>\n",
       "      <td>https://www.themoviedb.org/t/p/w300_and_h450_b...</td>\n",
       "    </tr>\n",
       "  </tbody>\n",
       "</table>\n",
       "<p>9734 rows × 3 columns</p>\n",
       "</div>"
      ],
      "text/plain": [
       "      movieId  tmdbId                                          image_url\n",
       "0           1     862  https://www.themoviedb.org/t/p/w300_and_h450_b...\n",
       "1           2    8844  https://www.themoviedb.org/t/p/w300_and_h450_b...\n",
       "2           3   15602  https://www.themoviedb.org/t/p/w300_and_h450_b...\n",
       "3           4   31357  https://www.themoviedb.org/t/p/w300_and_h450_b...\n",
       "4           5   11862  https://www.themoviedb.org/t/p/w300_and_h450_b...\n",
       "...       ...     ...                                                ...\n",
       "9729   193581  432131  https://www.themoviedb.org/t/p/w300_and_h450_b...\n",
       "9730   193583  445030  https://www.themoviedb.org/t/p/w300_and_h450_b...\n",
       "9731   193585  479308  https://www.themoviedb.org/t/p/w300_and_h450_b...\n",
       "9732   193587  483455  https://www.themoviedb.org/t/p/w300_and_h450_b...\n",
       "9733   193609   37891  https://www.themoviedb.org/t/p/w300_and_h450_b...\n",
       "\n",
       "[9734 rows x 3 columns]"
      ]
     },
     "execution_count": 107,
     "metadata": {},
     "output_type": "execute_result"
    }
   ],
   "source": [
    "links_urls = pd.read_csv(\"../cleaned_data/cl_links_urls.csv\")\n",
    "\n",
    "links_urls[\"image_url\"] = links_urls[\"image_url\"].apply(lambda x: \"https://www.themoviedb.org/t/p/w300_and_h450_bestv2/\" + x) \n",
    "links_urls"
   ]
  },
  {
   "cell_type": "code",
   "execution_count": 109,
   "metadata": {},
   "outputs": [],
   "source": [
    "links_urls.to_csv(\"../cleaned_data/cl_links_urls.csv\",index=False)"
   ]
  },
  {
   "cell_type": "code",
   "execution_count": null,
   "metadata": {},
   "outputs": [],
   "source": []
  },
  {
   "cell_type": "markdown",
   "metadata": {},
   "source": []
  }
 ],
 "metadata": {
  "interpreter": {
   "hash": "40d3a090f54c6569ab1632332b64b2c03c39dcf918b08424e98f38b5ae0af88f"
  },
  "kernelspec": {
   "display_name": "Python 3.9.7 ('base')",
   "language": "python",
   "name": "python3"
  },
  "language_info": {
   "codemirror_mode": {
    "name": "ipython",
    "version": 3
   },
   "file_extension": ".py",
   "mimetype": "text/x-python",
   "name": "python",
   "nbconvert_exporter": "python",
   "pygments_lexer": "ipython3",
   "version": "3.9.12"
  },
  "orig_nbformat": 4
 },
 "nbformat": 4,
 "nbformat_minor": 2
}
