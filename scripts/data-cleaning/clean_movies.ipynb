{
 "cells": [
  {
   "cell_type": "markdown",
   "metadata": {},
   "source": [
    "# Movies - Data Cleaning"
   ]
  },
  {
   "cell_type": "code",
   "execution_count": 86,
   "metadata": {},
   "outputs": [],
   "source": [
    "import pandas as pd"
   ]
  },
  {
   "cell_type": "code",
   "execution_count": 87,
   "metadata": {},
   "outputs": [],
   "source": [
    "path = \"../../data/small\""
   ]
  },
  {
   "cell_type": "code",
   "execution_count": 88,
   "metadata": {},
   "outputs": [],
   "source": [
    "links_urls = pd.read_csv(f\"{path}/links_urls.csv\")\n",
    "init_movies = pd.read_csv(f\"{path}/movies.csv\")\n",
    "ratings = pd.read_csv(f\"{path}/ratings.csv\")\n",
    "tags = pd.read_csv(f\"{path}/tags.csv\")"
   ]
  },
  {
   "cell_type": "markdown",
   "metadata": {},
   "source": [
    "## Movies\n",
    "Only movies with at least one rating or tag are included in the dataset. These movie ids are consistent with those used on the MovieLens web site (e.g., id `1` corresponds to the URL <https://movielens.org/movies/1>). Movie ids are consistent between `ratings.csv`, `tags.csv`, `movies.csv`, and `links.csv` (i.e., the same id refers to the same movie across these four data files).\n"
   ]
  },
  {
   "cell_type": "code",
   "execution_count": 89,
   "metadata": {},
   "outputs": [],
   "source": [
    "def init_pipeline(df):\n",
    "    \n",
    "    return df.copy()\n"
   ]
  },
  {
   "cell_type": "code",
   "execution_count": 90,
   "metadata": {},
   "outputs": [],
   "source": [
    "def merge_tables(df):\n",
    "    return df.merge(links_urls, how=\"left\")\n"
   ]
  },
  {
   "cell_type": "code",
   "execution_count": 91,
   "metadata": {},
   "outputs": [],
   "source": [
    "def create_columns(df):\n",
    "    df[\"year\"] = df[\"title\"].str.extract(\"\\((\\d{4})\\)\", flags=0, expand=True)\n",
    "    df[\"title\"] = df[\"title\"].str.replace(\"\\(\\d{4}\\)\",\"\", regex=True)\n",
    "    df[\"title\"] = df[\"title\"].str.replace(\"(.*), (The)\", \"\\\\2 \\\\1\", regex=True)\n",
    "    df = df.assign(movie_link = lambda x: \"https://www.themoviedb.org/movie/\" + str(x[\"tmdbId\"]))\n",
    "\n",
    "    return df"
   ]
  },
  {
   "cell_type": "code",
   "execution_count": 92,
   "metadata": {},
   "outputs": [],
   "source": [
    "def missing_values(df):\n",
    "    df[[\"year\",\"tmdbId\",\"image_url\"]] = df[[\"year\",\"tmdbId\",\"image_url\"]].fillna(0)\n",
    "    return df\n"
   ]
  },
  {
   "cell_type": "code",
   "execution_count": 93,
   "metadata": {},
   "outputs": [],
   "source": [
    "def adjust_dtypes(df):\n",
    "    df[[\"year\",\"tmdbId\"]] = df[[\"year\",\"tmdbId\"]].astype(int)\n",
    "    df = df.assign(genres = lambda x: x[\"genres\"].str.split(\"|\"))\n",
    "    return df\n",
    "\n"
   ]
  },
  {
   "cell_type": "code",
   "execution_count": 94,
   "metadata": {},
   "outputs": [],
   "source": [
    "def save_csv(df):\n",
    "    df.to_csv(\"../../data/clean/movies.csv\", index=False)\n",
    "    return df\n"
   ]
  },
  {
   "cell_type": "code",
   "execution_count": 95,
   "metadata": {},
   "outputs": [
    {
     "data": {
      "text/html": [
       "<div>\n",
       "<style scoped>\n",
       "    .dataframe tbody tr th:only-of-type {\n",
       "        vertical-align: middle;\n",
       "    }\n",
       "\n",
       "    .dataframe tbody tr th {\n",
       "        vertical-align: top;\n",
       "    }\n",
       "\n",
       "    .dataframe thead th {\n",
       "        text-align: right;\n",
       "    }\n",
       "</style>\n",
       "<table border=\"1\" class=\"dataframe\">\n",
       "  <thead>\n",
       "    <tr style=\"text-align: right;\">\n",
       "      <th></th>\n",
       "      <th>movieId</th>\n",
       "      <th>title</th>\n",
       "      <th>genres</th>\n",
       "      <th>tmdbId</th>\n",
       "      <th>image_url</th>\n",
       "      <th>year</th>\n",
       "      <th>movie_link</th>\n",
       "    </tr>\n",
       "  </thead>\n",
       "  <tbody>\n",
       "    <tr>\n",
       "      <th>3405</th>\n",
       "      <td>4632</td>\n",
       "      <td>The Package</td>\n",
       "      <td>[Action, Thriller]</td>\n",
       "      <td>31606</td>\n",
       "      <td>https://www.themoviedb.org/t/p/w300_and_h450_b...</td>\n",
       "      <td>1989</td>\n",
       "      <td>https://www.themoviedb.org/movie/0          86...</td>\n",
       "    </tr>\n",
       "  </tbody>\n",
       "</table>\n",
       "</div>"
      ],
      "text/plain": [
       "      movieId         title              genres  tmdbId  \\\n",
       "3405     4632  The Package   [Action, Thriller]   31606   \n",
       "\n",
       "                                              image_url  year  \\\n",
       "3405  https://www.themoviedb.org/t/p/w300_and_h450_b...  1989   \n",
       "\n",
       "                                             movie_link  \n",
       "3405  https://www.themoviedb.org/movie/0          86...  "
      ]
     },
     "execution_count": 95,
     "metadata": {},
     "output_type": "execute_result"
    }
   ],
   "source": [
    "movies = (\n",
    "    init_movies\n",
    "        .pipe(init_pipeline)\n",
    "        .pipe(merge_tables)\n",
    "        .pipe(create_columns)\n",
    "        .pipe(missing_values)\n",
    "        .pipe(adjust_dtypes)\n",
    "        .pipe(save_csv)\n",
    "\n",
    ") \n",
    "movies.loc[movies.title.str.contains(\"Package\")]\n",
    "#movies.head()"
   ]
  },
  {
   "cell_type": "code",
   "execution_count": 96,
   "metadata": {},
   "outputs": [
    {
     "data": {
      "text/html": [
       "<div>\n",
       "<style scoped>\n",
       "    .dataframe tbody tr th:only-of-type {\n",
       "        vertical-align: middle;\n",
       "    }\n",
       "\n",
       "    .dataframe tbody tr th {\n",
       "        vertical-align: top;\n",
       "    }\n",
       "\n",
       "    .dataframe thead th {\n",
       "        text-align: right;\n",
       "    }\n",
       "</style>\n",
       "<table border=\"1\" class=\"dataframe\">\n",
       "  <thead>\n",
       "    <tr style=\"text-align: right;\">\n",
       "      <th></th>\n",
       "      <th>movieId</th>\n",
       "      <th>title</th>\n",
       "      <th>genres</th>\n",
       "      <th>tmdbId</th>\n",
       "      <th>image_url</th>\n",
       "      <th>year</th>\n",
       "      <th>movie_link</th>\n",
       "    </tr>\n",
       "  </thead>\n",
       "  <tbody>\n",
       "    <tr>\n",
       "      <th>0</th>\n",
       "      <td>1</td>\n",
       "      <td>Toy Story</td>\n",
       "      <td>[Adventure, Animation, Children, Comedy, Fantasy]</td>\n",
       "      <td>862</td>\n",
       "      <td>https://www.themoviedb.org/t/p/w300_and_h450_b...</td>\n",
       "      <td>1995</td>\n",
       "      <td>https://www.themoviedb.org/movie/0          86...</td>\n",
       "    </tr>\n",
       "    <tr>\n",
       "      <th>1</th>\n",
       "      <td>2</td>\n",
       "      <td>Jumanji</td>\n",
       "      <td>[Adventure, Children, Fantasy]</td>\n",
       "      <td>8844</td>\n",
       "      <td>https://www.themoviedb.org/t/p/w300_and_h450_b...</td>\n",
       "      <td>1995</td>\n",
       "      <td>https://www.themoviedb.org/movie/0          86...</td>\n",
       "    </tr>\n",
       "    <tr>\n",
       "      <th>2</th>\n",
       "      <td>3</td>\n",
       "      <td>Grumpier Old Men</td>\n",
       "      <td>[Comedy, Romance]</td>\n",
       "      <td>15602</td>\n",
       "      <td>https://www.themoviedb.org/t/p/w300_and_h450_b...</td>\n",
       "      <td>1995</td>\n",
       "      <td>https://www.themoviedb.org/movie/0          86...</td>\n",
       "    </tr>\n",
       "    <tr>\n",
       "      <th>3</th>\n",
       "      <td>4</td>\n",
       "      <td>Waiting to Exhale</td>\n",
       "      <td>[Comedy, Drama, Romance]</td>\n",
       "      <td>31357</td>\n",
       "      <td>https://www.themoviedb.org/t/p/w300_and_h450_b...</td>\n",
       "      <td>1995</td>\n",
       "      <td>https://www.themoviedb.org/movie/0          86...</td>\n",
       "    </tr>\n",
       "    <tr>\n",
       "      <th>4</th>\n",
       "      <td>5</td>\n",
       "      <td>Father of the Bride Part II</td>\n",
       "      <td>[Comedy]</td>\n",
       "      <td>11862</td>\n",
       "      <td>https://www.themoviedb.org/t/p/w300_and_h450_b...</td>\n",
       "      <td>1995</td>\n",
       "      <td>https://www.themoviedb.org/movie/0          86...</td>\n",
       "    </tr>\n",
       "  </tbody>\n",
       "</table>\n",
       "</div>"
      ],
      "text/plain": [
       "   movieId                         title  \\\n",
       "0        1                    Toy Story    \n",
       "1        2                      Jumanji    \n",
       "2        3             Grumpier Old Men    \n",
       "3        4            Waiting to Exhale    \n",
       "4        5  Father of the Bride Part II    \n",
       "\n",
       "                                              genres  tmdbId  \\\n",
       "0  [Adventure, Animation, Children, Comedy, Fantasy]     862   \n",
       "1                     [Adventure, Children, Fantasy]    8844   \n",
       "2                                  [Comedy, Romance]   15602   \n",
       "3                           [Comedy, Drama, Romance]   31357   \n",
       "4                                           [Comedy]   11862   \n",
       "\n",
       "                                           image_url  year  \\\n",
       "0  https://www.themoviedb.org/t/p/w300_and_h450_b...  1995   \n",
       "1  https://www.themoviedb.org/t/p/w300_and_h450_b...  1995   \n",
       "2  https://www.themoviedb.org/t/p/w300_and_h450_b...  1995   \n",
       "3  https://www.themoviedb.org/t/p/w300_and_h450_b...  1995   \n",
       "4  https://www.themoviedb.org/t/p/w300_and_h450_b...  1995   \n",
       "\n",
       "                                          movie_link  \n",
       "0  https://www.themoviedb.org/movie/0          86...  \n",
       "1  https://www.themoviedb.org/movie/0          86...  \n",
       "2  https://www.themoviedb.org/movie/0          86...  \n",
       "3  https://www.themoviedb.org/movie/0          86...  \n",
       "4  https://www.themoviedb.org/movie/0          86...  "
      ]
     },
     "execution_count": 96,
     "metadata": {},
     "output_type": "execute_result"
    }
   ],
   "source": [
    "movies.head(5)"
   ]
  },
  {
   "cell_type": "code",
   "execution_count": null,
   "metadata": {},
   "outputs": [],
   "source": []
  },
  {
   "cell_type": "code",
   "execution_count": null,
   "metadata": {},
   "outputs": [],
   "source": []
  }
 ],
 "metadata": {
  "interpreter": {
   "hash": "40d3a090f54c6569ab1632332b64b2c03c39dcf918b08424e98f38b5ae0af88f"
  },
  "kernelspec": {
   "display_name": "Python 3.9.7 ('base')",
   "language": "python",
   "name": "python3"
  },
  "language_info": {
   "codemirror_mode": {
    "name": "ipython",
    "version": 3
   },
   "file_extension": ".py",
   "mimetype": "text/x-python",
   "name": "python",
   "nbconvert_exporter": "python",
   "pygments_lexer": "ipython3",
   "version": "3.9.12"
  },
  "orig_nbformat": 4
 },
 "nbformat": 4,
 "nbformat_minor": 2
}
