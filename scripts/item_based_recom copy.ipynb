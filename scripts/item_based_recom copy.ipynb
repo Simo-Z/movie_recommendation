{
 "cells": [
  {
   "cell_type": "markdown",
   "metadata": {},
   "source": [
    "# Movie Recommender - Item based\n",
    "\n"
   ]
  },
  {
   "cell_type": "code",
   "execution_count": 2,
   "metadata": {},
   "outputs": [],
   "source": [
    "import pandas as pd\n",
    "import seaborn as sns"
   ]
  },
  {
   "cell_type": "code",
   "execution_count": 55,
   "metadata": {},
   "outputs": [
    {
     "data": {
      "text/plain": [
       "'Toy Story (1995)'"
      ]
     },
     "execution_count": 55,
     "metadata": {},
     "output_type": "execute_result"
    }
   ],
   "source": [
    "path = \"../ml-latest-small/\"\n",
    "movies = pd.read_csv(f\"{path}movies.csv\")\n",
    "links = pd.read_csv(f\"{path}links.csv\")\n",
    "ratings = pd.read_csv(f\"{path}ratings.csv\")\n",
    "movies.query(\"movieId == 1\")[\"title\"].iloc[0]"
   ]
  },
  {
   "cell_type": "code",
   "execution_count": 11,
   "metadata": {},
   "outputs": [
    {
     "data": {
      "text/html": [
       "<div>\n",
       "<style scoped>\n",
       "    .dataframe tbody tr th:only-of-type {\n",
       "        vertical-align: middle;\n",
       "    }\n",
       "\n",
       "    .dataframe tbody tr th {\n",
       "        vertical-align: top;\n",
       "    }\n",
       "\n",
       "    .dataframe thead th {\n",
       "        text-align: right;\n",
       "    }\n",
       "</style>\n",
       "<table border=\"1\" class=\"dataframe\">\n",
       "  <thead>\n",
       "    <tr style=\"text-align: right;\">\n",
       "      <th></th>\n",
       "      <th>movieId</th>\n",
       "      <th>mean_rating</th>\n",
       "      <th>count_rating</th>\n",
       "      <th>ratingtest</th>\n",
       "    </tr>\n",
       "  </thead>\n",
       "  <tbody>\n",
       "    <tr>\n",
       "      <th>0</th>\n",
       "      <td>1</td>\n",
       "      <td>3.9</td>\n",
       "      <td>215</td>\n",
       "      <td>2.8</td>\n",
       "    </tr>\n",
       "    <tr>\n",
       "      <th>1</th>\n",
       "      <td>2</td>\n",
       "      <td>3.4</td>\n",
       "      <td>110</td>\n",
       "      <td>1.3</td>\n",
       "    </tr>\n",
       "    <tr>\n",
       "      <th>2</th>\n",
       "      <td>3</td>\n",
       "      <td>3.3</td>\n",
       "      <td>52</td>\n",
       "      <td>0.6</td>\n",
       "    </tr>\n",
       "    <tr>\n",
       "      <th>3</th>\n",
       "      <td>4</td>\n",
       "      <td>2.4</td>\n",
       "      <td>7</td>\n",
       "      <td>0.1</td>\n",
       "    </tr>\n",
       "    <tr>\n",
       "      <th>4</th>\n",
       "      <td>5</td>\n",
       "      <td>3.1</td>\n",
       "      <td>49</td>\n",
       "      <td>0.5</td>\n",
       "    </tr>\n",
       "    <tr>\n",
       "      <th>...</th>\n",
       "      <td>...</td>\n",
       "      <td>...</td>\n",
       "      <td>...</td>\n",
       "      <td>...</td>\n",
       "    </tr>\n",
       "    <tr>\n",
       "      <th>9719</th>\n",
       "      <td>193581</td>\n",
       "      <td>4.0</td>\n",
       "      <td>1</td>\n",
       "      <td>0.0</td>\n",
       "    </tr>\n",
       "    <tr>\n",
       "      <th>9720</th>\n",
       "      <td>193583</td>\n",
       "      <td>3.5</td>\n",
       "      <td>1</td>\n",
       "      <td>0.0</td>\n",
       "    </tr>\n",
       "    <tr>\n",
       "      <th>9721</th>\n",
       "      <td>193585</td>\n",
       "      <td>3.5</td>\n",
       "      <td>1</td>\n",
       "      <td>0.0</td>\n",
       "    </tr>\n",
       "    <tr>\n",
       "      <th>9722</th>\n",
       "      <td>193587</td>\n",
       "      <td>3.5</td>\n",
       "      <td>1</td>\n",
       "      <td>0.0</td>\n",
       "    </tr>\n",
       "    <tr>\n",
       "      <th>9723</th>\n",
       "      <td>193609</td>\n",
       "      <td>4.0</td>\n",
       "      <td>1</td>\n",
       "      <td>0.0</td>\n",
       "    </tr>\n",
       "  </tbody>\n",
       "</table>\n",
       "<p>9724 rows × 4 columns</p>\n",
       "</div>"
      ],
      "text/plain": [
       "      movieId  mean_rating  count_rating  ratingtest\n",
       "0           1          3.9           215         2.8\n",
       "1           2          3.4           110         1.3\n",
       "2           3          3.3            52         0.6\n",
       "3           4          2.4             7         0.1\n",
       "4           5          3.1            49         0.5\n",
       "...       ...          ...           ...         ...\n",
       "9719   193581          4.0             1         0.0\n",
       "9720   193583          3.5             1         0.0\n",
       "9721   193585          3.5             1         0.0\n",
       "9722   193587          3.5             1         0.0\n",
       "9723   193609          4.0             1         0.0\n",
       "\n",
       "[9724 rows x 4 columns]"
      ]
     },
     "execution_count": 11,
     "metadata": {},
     "output_type": "execute_result"
    }
   ],
   "source": [
    "ratings_dense_matrix = (\n",
    "    ratings\n",
    "        .drop(columns=\"timestamp\")\n",
    "        .groupby(\"movieId\")\n",
    "        .agg(mean_rating= (\"rating\", \"mean\"), count_rating= (\"rating\",\"count\"))\n",
    "        .reset_index()\n",
    "        .assign(ratingtest = lambda x: x[\"mean_rating\"] * (x[\"count_rating\"] / 300))\n",
    "        .round(1)\n",
    "        \n",
    ")\n",
    "ratings_dense_matrix\n"
   ]
  },
  {
   "cell_type": "markdown",
   "metadata": {},
   "source": [
    "## Recommender Function\n",
    "**Input:** \n",
    "- movie_name \n",
    "- n: int = movies_to_display\n",
    "\n",
    "**Output:** \n",
    "- top n most similar movie titles \n",
    "- based on cosine similarity"
   ]
  },
  {
   "cell_type": "code",
   "execution_count": 24,
   "metadata": {},
   "outputs": [],
   "source": [
    "# py function get sparse matrix\n",
    "def get_sparse_matrix(dense_matrix: pd.DataFrame): \n",
    "    dense_matrix.pivot(index='userId', columns='movieId', values=['rating'])\n",
    "    return(\n",
    "    dense_matrix\n",
    "        .pivot(index='userId', columns='movieId', values='rating')\n",
    "    )"
   ]
  },
  {
   "cell_type": "code",
   "execution_count": 56,
   "metadata": {},
   "outputs": [
    {
     "name": "stderr",
     "output_type": "stream",
     "text": [
      "/opt/anaconda3/lib/python3.9/site-packages/numpy/lib/function_base.py:2634: RuntimeWarning: Degrees of freedom <= 0 for slice\n",
      "  c = cov(x, y, rowvar, dtype=dtype)\n",
      "/opt/anaconda3/lib/python3.9/site-packages/numpy/lib/function_base.py:2493: RuntimeWarning: divide by zero encountered in true_divide\n",
      "  c *= np.true_divide(1, fact)\n"
     ]
    },
    {
     "data": {
      "text/plain": [
       "['Package, The (1989)',\n",
       " 'Gas, Food, Lodging (1992)',\n",
       " 'Room in Rome (Habitación en Roma) (2010)',\n",
       " \"White Man's Burden (1995)\",\n",
       " 'Senna (2010)',\n",
       " 'Hall Pass (2011)',\n",
       " 'Dead Pool, The (1988)',\n",
       " 'Cedar Rapids (2011)',\n",
       " 'All-Star Superman (2011)',\n",
       " 'Let It Ride (1989)']"
      ]
     },
     "execution_count": 56,
     "metadata": {},
     "output_type": "execute_result"
    }
   ],
   "source": [
    "# py function item based recommender\n",
    "def item_based_recommender(dense_matrix: pd.DataFrame, movie_id: int, n: int =10): # n=6, minimum number of ratings\n",
    "\n",
    "    sparse_matrix = get_sparse_matrix(ratings)\n",
    "    \n",
    "    movie_ids = (\n",
    "    sparse_matrix\n",
    "        .corrwith(sparse_matrix[movie_id])\n",
    "        .sort_values(ascending=False)\n",
    "        .index\n",
    "        .to_list()[1:n+1]\n",
    "    )\n",
    "    movie_titles = [movies.query(\"movieId == @movie_id\")[\"title\"].iloc[0] for movie_id in movie_ids ]\n",
    "\n",
    "    return movie_titles\n",
    "\n",
    "item_based_recommender(ratings_dense_matrix, 1)\n"
   ]
  },
  {
   "cell_type": "code",
   "execution_count": null,
   "metadata": {},
   "outputs": [],
   "source": []
  }
 ],
 "metadata": {
  "interpreter": {
   "hash": "40d3a090f54c6569ab1632332b64b2c03c39dcf918b08424e98f38b5ae0af88f"
  },
  "kernelspec": {
   "display_name": "Python 3.9.7 ('base')",
   "language": "python",
   "name": "python3"
  },
  "language_info": {
   "codemirror_mode": {
    "name": "ipython",
    "version": 3
   },
   "file_extension": ".py",
   "mimetype": "text/x-python",
   "name": "python",
   "nbconvert_exporter": "python",
   "pygments_lexer": "ipython3",
   "version": "3.9.7"
  },
  "orig_nbformat": 4
 },
 "nbformat": 4,
 "nbformat_minor": 2
}
